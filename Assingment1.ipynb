{
 "cells": [
  {
   "cell_type": "markdown",
   "metadata": {},
   "source": [
    "# Assingment 1.1"
   ]
  },
  {
   "cell_type": "code",
   "execution_count": 16,
   "metadata": {},
   "outputs": [
    {
     "name": "stdout",
     "output_type": "stream",
     "text": [
      "2002,2009,2016,2023,2037,2044,2051,2058,2072,2079,2086,2093,2107,2114,2121,2128,2142,2149,2156,2163,2177,2184,2191,2198,2212,2219,2226,2233,2247,2254,2261,2268,2282,2289,2296,2303,2317,2324,2331,2338,2352,2359,2366,2373,2387,2394,2401,2408,2422,2429,2436,2443,2457,2464,2471,2478,2492,2499,2506,2513,2527,2534,2541,2548,2562,2569,2576,2583,2597,2604,2611,2618,2632,2639,2646,2653,2667,2674,2681,2688,2702,2709,2716,2723,2737,2744,2751,2758,2772,2779,2786,2793,2807,2814,2821,2828,2842,2849,2856,2863,2877,2884,2891,2898,2912,2919,2926,2933,2947,2954,2961,2968,2982,2989,2996,3003,3017,3024,3031,3038,3052,3059,3066,3073,3087,3094,3101,3108,3122,3129,3136,3143,3157,3164,3171,3178,3192,3199\n"
     ]
    }
   ],
   "source": [
    "num=[]\n",
    "for i in range(2000,3201):\n",
    "    if(i%7==0 and i%5!=0):\n",
    "        num.append(str(i))\n",
    "print(','.join(num))        "
   ]
  },
  {
   "cell_type": "code",
   "execution_count": 2,
   "metadata": {},
   "outputs": [
    {
     "name": "stdout",
     "output_type": "stream",
     "text": [
      "Enter first name and last name: Abhishek Pandey\n",
      "Original: Abhishek Pandey\n",
      "Reverse: yednaP kehsihbA\n"
     ]
    }
   ],
   "source": [
    "name=input('Enter first name and last name: ')\n",
    "print('Original:',name)\n",
    "rev=name[::-1]\n",
    "print('Reverse:',rev)"
   ]
  },
  {
   "cell_type": "code",
   "execution_count": 3,
   "metadata": {},
   "outputs": [
    {
     "name": "stdout",
     "output_type": "stream",
     "text": [
      "Volume: 904.3199999999999\n"
     ]
    }
   ],
   "source": [
    "di=12\n",
    "r=di/2\n",
    "pi=3.14\n",
    "vol=((4/3)*(pi*(r**3)))\n",
    "print('Volume:',vol)"
   ]
  },
  {
   "cell_type": "markdown",
   "metadata": {},
   "source": [
    "# Assingment 1.2\n"
   ]
  },
  {
   "cell_type": "code",
   "execution_count": 8,
   "metadata": {},
   "outputs": [
    {
     "name": "stdout",
     "output_type": "stream",
     "text": [
      "Enter comma seperated numbers:3,4,5,1\n",
      "[3, 4, 5, 1]\n"
     ]
    }
   ],
   "source": [
    "num=input('Enter comma seperated numbers:')\n",
    "l1=map(int,num.split(','))\n",
    "print(list(l1))\n"
   ]
  },
  {
   "cell_type": "code",
   "execution_count": 21,
   "metadata": {},
   "outputs": [],
   "source": [
    "def pattern(n):\n",
    "    for i in range(n):\n",
    "        for j in range(i):\n",
    "            print('*',end='')\n",
    "        print('')\n",
    "\n",
    "    for i in range(n,0,-1):\n",
    "        for j in range(i):\n",
    "            print('*',end='')\n",
    "        print('')   "
   ]
  },
  {
   "cell_type": "code",
   "execution_count": 24,
   "metadata": {},
   "outputs": [
    {
     "name": "stdout",
     "output_type": "stream",
     "text": [
      "\n",
      "*\n",
      "**\n",
      "***\n",
      "****\n",
      "*****\n",
      "****\n",
      "***\n",
      "**\n",
      "*\n"
     ]
    }
   ],
   "source": [
    "pattern(5)"
   ]
  },
  {
   "cell_type": "code",
   "execution_count": 27,
   "metadata": {},
   "outputs": [
    {
     "name": "stdout",
     "output_type": "stream",
     "text": [
      "Enter word to be reversed:AcadGild\n",
      "reverse: dliGdacA\n"
     ]
    }
   ],
   "source": [
    "word=input('Enter word to be reversed:')\n",
    "rev=word[::-1]\n",
    "print('reverse:',rev)"
   ]
  },
  {
   "cell_type": "code",
   "execution_count": 26,
   "metadata": {},
   "outputs": [
    {
     "name": "stdout",
     "output_type": "stream",
     "text": [
      "WE, THE PEPOLE OF INDIA,\n",
      "     having solemnly resolved to constitute India into a SOVEREIGN,! \n",
      "           SOCIALIST, SECULAR,DEMOCRATIC \n",
      "            REPUBLIC and to secure to all its citizens\n"
     ]
    }
   ],
   "source": [
    "print('WE, THE PEPOLE OF INDIA,\\n     having solemnly resolved to constitute India into a SOVEREIGN,! \\n           SOCIALIST, SECULAR,DEMOCRATIC \\n            REPUBLIC and to secure to all its citizens')"
   ]
  },
  {
   "cell_type": "markdown",
   "metadata": {},
   "source": [
    "# Assingment 2.1 \n"
   ]
  },
  {
   "cell_type": "code",
   "execution_count": 28,
   "metadata": {},
   "outputs": [],
   "source": [
    "import functools\n",
    "def myreduce(ll):\n",
    "    print('The sum of the list elements :',end='')\n",
    "    print(functools.reduce(lambda a,b: a+b, ll))"
   ]
  },
  {
   "cell_type": "code",
   "execution_count": 29,
   "metadata": {},
   "outputs": [
    {
     "name": "stdout",
     "output_type": "stream",
     "text": [
      "The sum of the list elements :15\n"
     ]
    }
   ],
   "source": [
    "myreduce([4,5,6])"
   ]
  },
  {
   "cell_type": "code",
   "execution_count": 38,
   "metadata": {},
   "outputs": [
    {
     "name": "stdout",
     "output_type": "stream",
     "text": [
      " ['A', 'C', 'A', 'D', 'G', 'I', 'L', 'D']\n",
      " ['x', 'xx', 'xxx', 'xxxx', 'y', 'yy', 'yyy', 'yyyy', 'z', 'zz', 'zzz', 'zzzz']\n",
      " ['x', 'y', 'z', 'xx', 'yy', 'zz', 'xxx', 'yyy', 'zzz', 'xxxx', 'yyyy', 'zzzz']\n",
      " [[2], [3], [4], [3], [4], [5], [4], [5], [6]]\n",
      " [[2, 3, 4, 5], [3, 4, 5, 6], [4, 5, 6, 7], [5, 6, 7, 8]]\n",
      " [(1, 1), (2, 1), (3, 1), (1, 2), (2, 2), (3, 2), (1, 3), (2, 3), (3, 3)]\n"
     ]
    }
   ],
   "source": [
    "word=\"ACADGILD\"\n",
    "alpha_list=[i for i in word]\n",
    "print(\" \"+ str(alpha_list))\n",
    "\n",
    "\n",
    "in_list=['x','y','z']\n",
    "res=[i*num for i in in_list for num in range(1,5)]\n",
    "print(\" \" +str(res))\n",
    "\n",
    "\n",
    "in_list=['x','y','z']\n",
    "res=[i*num for num in range(1,5) for i in in_list]\n",
    "print(\" \" +str(res))\n",
    "\n",
    "\n",
    "in_list=[2,3,4]\n",
    "res=[[i+num] for i in in_list for num in range(0,3)]\n",
    "print(\" \" + str(res))\n",
    "\n",
    "\n",
    "in_list=[2,3,4,5]\n",
    "res=[[i+num for i in in_list] for num in range(0,4)]\n",
    "print(\" \" + str(res))\n",
    "\n",
    "\n",
    "in_list=[1,2,3]\n",
    "res=[(b,a) for  a in in_list for b in in_list]\n",
    "print(\" \" +str(res))\n"
   ]
  },
  {
   "cell_type": "code",
   "execution_count": 39,
   "metadata": {},
   "outputs": [
    {
     "name": "stdout",
     "output_type": "stream",
     "text": [
      "JavaScript\n"
     ]
    }
   ],
   "source": [
    "def long_word(wo_list):\n",
    "    word_len=[]\n",
    "    for i in wo_list:\n",
    "        word_len.append((len(i),i))\n",
    "    word_len.sort()\n",
    "    return word_len[-1][1]\n",
    "print(long_word([\"Python\",\"Java\",\"C++\",\"HTML\",\"JavaScript\"]))"
   ]
  },
  {
   "cell_type": "markdown",
   "metadata": {},
   "source": [
    "# Assingment 3"
   ]
  },
  {
   "cell_type": "code",
   "execution_count": 41,
   "metadata": {},
   "outputs": [],
   "source": [
    "def div(x,y):\n",
    "    try:\n",
    "        res=x//y\n",
    "        print('result:',res)\n",
    "    except ZeroDivisionError:\n",
    "        print('you are dividing by zero which is invalid!!!!!')"
   ]
  },
  {
   "cell_type": "code",
   "execution_count": 48,
   "metadata": {},
   "outputs": [
    {
     "name": "stdout",
     "output_type": "stream",
     "text": [
      "you are dividing by zero which is invalid!!!!!\n"
     ]
    }
   ],
   "source": [
    "div(5,0)\n"
   ]
  },
  {
   "cell_type": "code",
   "execution_count": 47,
   "metadata": {},
   "outputs": [
    {
     "name": "stdout",
     "output_type": "stream",
     "text": [
      "result: 2\n"
     ]
    }
   ],
   "source": [
    "div(4,2)"
   ]
  },
  {
   "cell_type": "code",
   "execution_count": 49,
   "metadata": {},
   "outputs": [
    {
     "name": "stdout",
     "output_type": "stream",
     "text": [
      "Americans Play Baseball\n",
      "Americans Play Cricket\n",
      "Americans Watch Baseball\n",
      "Americans Watch Cricket\n",
      "Indians Play Baseball\n",
      "Indians Play Cricket\n",
      "Indians Watch Baseball\n",
      "Indians Watch Cricket\n"
     ]
    }
   ],
   "source": [
    "sub=['Americans','Indians']\n",
    "verb=['Play','Watch']\n",
    "obj=['Baseball','Cricket']\n",
    "\n",
    "sen_list=[(su+\" \"+ ve +\" \" + ob) for su in sub  for ve in verb for ob in obj]\n",
    "for i in sen_list:\n",
    "    print(i)"
   ]
  },
  {
   "cell_type": "markdown",
   "metadata": {},
   "source": [
    "# Project-1(piggy bank)"
   ]
  },
  {
   "cell_type": "code",
   "execution_count": 50,
   "metadata": {},
   "outputs": [
    {
     "name": "stdout",
     "output_type": "stream",
     "text": [
      "------------------------Piggy Bank--------------------------\n",
      "\n",
      "Start or End :\n",
      "start\n",
      "Add, Withdraw or check:\n",
      "add\n",
      "\n",
      "Add amount:1000\n",
      "\n",
      "After adding your updated balance is  1000 rupees\n",
      "\n",
      "Start or End :\n",
      "start\n",
      "Add, Withdraw or check:\n",
      "withdraw\n",
      "\n",
      "Withdraw amount:300\n",
      "\n",
      "After withdrawing your updated balance is  700 rupees\n",
      "\n",
      "Start or End :\n",
      "start\n",
      "Add, Withdraw or check:\n",
      "check\n",
      "\n",
      "your current balance is 700 rupees\n",
      "\n",
      "Start or End :\n",
      "end\n",
      "----------------------Thank you------------------------------\n"
     ]
    }
   ],
   "source": [
    "print('------------------------Piggy Bank--------------------------')\n",
    "bal=0\n",
    "while True:\n",
    "    print('\\nStart or End :')\n",
    "    i=input('')\n",
    "    if i==\"start\":\n",
    "        print('Add, Withdraw or check:')\n",
    "        j=input('')\n",
    "        if j=='add':\n",
    "            amt=int(input('\\nAdd amount:'))\n",
    "            bal=bal+amt\n",
    "            print('\\nAfter adding your updated balance is ',bal ,'rupees')\n",
    "        \n",
    "        elif j=='withdraw':\n",
    "            w_amt=int(input('\\nWithdraw amount:'))\n",
    "            bal=bal-w_amt\n",
    "            print('\\nAfter withdrawing your updated balance is ',bal ,'rupees')\n",
    "\n",
    "        elif j=='check':\n",
    "            print('\\nyour current balance is',bal,'rupees')\n",
    "    elif i=='end':\n",
    "        break\n",
    "print('----------------------Thank you------------------------------')            "
   ]
  },
  {
   "cell_type": "code",
   "execution_count": null,
   "metadata": {},
   "outputs": [],
   "source": []
  }
 ],
 "metadata": {
  "kernelspec": {
   "display_name": "Python 3",
   "language": "python",
   "name": "python3"
  },
  "language_info": {
   "codemirror_mode": {
    "name": "ipython",
    "version": 3
   },
   "file_extension": ".py",
   "mimetype": "text/x-python",
   "name": "python",
   "nbconvert_exporter": "python",
   "pygments_lexer": "ipython3",
   "version": "3.7.3"
  }
 },
 "nbformat": 4,
 "nbformat_minor": 2
}
